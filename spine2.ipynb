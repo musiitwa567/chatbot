{
  "cells": [
    {
      "cell_type": "markdown",
      "metadata": {
        "id": "view-in-github",
        "colab_type": "text"
      },
      "source": [
        "<a href=\"https://colab.research.google.com/github/musiitwa567/chatbot/blob/main/spine2.ipynb\" target=\"_parent\"><img src=\"https://colab.research.google.com/assets/colab-badge.svg\" alt=\"Open In Colab\"/></a>"
      ]
    },
    {
      "cell_type": "code",
      "source": [
        "from google.colab import drive\n",
        "drive.mount('/content/drive')"
      ],
      "metadata": {
        "id": "woAqEUHr9Gh6",
        "colab": {
          "base_uri": "https://localhost:8080/"
        },
        "outputId": "5f9bcaa1-50ce-4e45-ff51-82ffbde82bc3"
      },
      "execution_count": 1,
      "outputs": [
        {
          "output_type": "stream",
          "name": "stdout",
          "text": [
            "Mounted at /content/drive\n"
          ]
        }
      ]
    },
    {
      "cell_type": "code",
      "execution_count": 2,
      "metadata": {
        "id": "6g-Dr0Rz2V2C"
      },
      "outputs": [],
      "source": [
        "import numpy as np\n",
        "import os\n",
        "from PIL import Image\n",
        "import tensorflow as tf\n",
        "from tensorflow.keras.models import Model\n",
        "from tensorflow.keras.layers import Input, Conv2D, MaxPooling2D, Dropout, UpSampling2D, concatenate\n",
        "from tensorflow.keras.utils import to_categorical\n",
        "\n",
        "# Function to prepare dataset\n",
        "def prepare_dataset(image_path, mask_path):\n",
        "    image_files = []\n",
        "    mask_files = []\n",
        "\n",
        "    for root, _, files in os.walk(image_path):\n",
        "        for file in files:\n",
        "            image_files.append(os.path.join(root, file))\n",
        "    \n",
        "    for root, _, files in os.walk(mask_path):\n",
        "        for file in files:\n",
        "            mask_files.append(os.path.join(root, file))\n",
        "    \n",
        "    images = []\n",
        "    masks = []\n",
        "    \n",
        "    for img_file, mask_file in zip(image_files, mask_files):\n",
        "        img = Image.open(img_file).resize((48, 48))\n",
        "        mask = Image.open(mask_file).resize((48, 48))\n",
        "        \n",
        "        img = np.array(img)\n",
        "        mask = np.array(mask)\n",
        "        \n",
        "        images.append(img)\n",
        "        masks.append(mask)\n",
        "    \n",
        "    images = np.array(images)\n",
        "    masks = np.array(masks)\n",
        "    \n",
        "    return images, masks\n"
      ]
    },
    {
      "cell_type": "code",
      "execution_count": 3,
      "metadata": {
        "id": "DmgnUI7X2bGU"
      },
      "outputs": [],
      "source": [
        "from tensorflow.keras import regularizers\n",
        "\n",
        "# U-Net architecture with L1 and L2 regularization\n",
        "def unet(input_size=(None, None, 3)):\n",
        "    # Encoder\n",
        "    inputs = Input(input_size)\n",
        "    conv1 = Conv2D(64, 3, activation='relu', padding='same',\n",
        "                   kernel_regularizer=regularizers.l1_l2(l1=0.01, l2=0.01))(inputs)\n",
        "    conv1 = Conv2D(64, 3, activation='relu', padding='same',\n",
        "                   kernel_regularizer=regularizers.l1_l2(l1=0.01, l2=0.01))(conv1)\n",
        "    pool1 = MaxPooling2D(pool_size=(2, 2))(conv1)\n",
        "\n",
        "    # Decoder\n",
        "    conv2 = Conv2D(128, 3, activation='relu', padding='same',\n",
        "                   kernel_regularizer=regularizers.l1_l2(l1=0.01, l2=0.01))(pool1)\n",
        "    conv2 = Conv2D(128, 3, activation='relu', padding='same',\n",
        "                   kernel_regularizer=regularizers.l1_l2(l1=0.01, l2=0.01))(conv2)\n",
        "    up1 = UpSampling2D(size=(2, 2))(conv2)\n",
        "    concat1 = concatenate([conv1, up1], axis=3)\n",
        "    conv3 = Conv2D(64, 3, activation='relu', padding='same',\n",
        "                   kernel_regularizer=regularizers.l1_l2(l1=0.01, l2=0.01))(concat1)\n",
        "    conv3 = Conv2D(64, 3, activation='relu', padding='same',\n",
        "                   kernel_regularizer=regularizers.l1_l2(l1=0.01, l2=0.01))(conv3)\n",
        "\n",
        "    outputs = Conv2D(num_classes, 1, activation='softmax')(conv3)\n",
        "\n",
        "    model = Model(inputs=inputs, outputs=outputs)\n",
        "    return model\n"
      ]
    },
    {
      "cell_type": "code",
      "source": [
        "from sklearn.model_selection import train_test_split\n",
        "\n",
        "# Set the paths to your image and mask directories\n",
        "image_path = '/content/drive/MyDrive/SampleLumbarDataset/Images'\n",
        "mask_path = '/content/drive/MyDrive/SampleLumbarDataset/Masks'\n",
        "\n",
        "# Load and preprocess the dataset\n",
        "images, masks = prepare_dataset(image_path, mask_path)"
      ],
      "metadata": {
        "id": "or39VMYfSSI5"
      },
      "execution_count": 4,
      "outputs": []
    },
    {
      "cell_type": "code",
      "source": [
        "# Normalize images\n",
        "images = images / 255.0"
      ],
      "metadata": {
        "id": "uKMl7d37ST9t"
      },
      "execution_count": 5,
      "outputs": []
    },
    {
      "cell_type": "code",
      "source": [
        "# Check unique class indices in masks\n",
        "unique_classes = np.unique(masks)\n",
        "print(\"Unique Class Indices:\", unique_classes)\n"
      ],
      "metadata": {
        "id": "61eQQ6uaSYCi",
        "colab": {
          "base_uri": "https://localhost:8080/"
        },
        "outputId": "da79db16-af27-475a-cae4-6bea2fb4b9d4"
      },
      "execution_count": 6,
      "outputs": [
        {
          "output_type": "stream",
          "name": "stdout",
          "text": [
            "Unique Class Indices: [  0   1   4   8   9  10  11  12  13  15  16  17  18  19  23  30  31  32\n",
            "  34  35  36  37  38  39  40  41  42  43  44  45  46  47  48  49  50  51\n",
            "  52  53  54  55  56  57  58  59  60  61  62  63  64  65  66  67  68  69\n",
            "  70  71  72  73  74  75  76  77  78  79  80  81  82  83  84  85  86  87\n",
            "  88  89  90  91  92  93  94  95  96  97  98  99 100 101 102 103 104 105\n",
            " 106 107 108 109 110 111 112 113 114 115 116 117 118 119 120 121 122 123\n",
            " 124 125 126 127 128 129 130 131 132 133 134 135 136 137 138 139 140 141\n",
            " 142 143 144 145 146 147 148 149 150 151 152 153 154 155 156 157 158 159\n",
            " 160 161 162 163 164 165 166 167 168 169 170 171 172 173 174 175 176 177\n",
            " 178 179 180 181 182 183 184 185 186 187 188 189 190 191 192 193 194 195\n",
            " 196 197 198 199 200 201 202 203 204 205 206 207 208 209 210 211 212 213\n",
            " 214 215 216 217 218 219 220 221 222 223 224 225 226 227 228 229 230 231\n",
            " 232 233 234 235 236 237 238 239 240 241 242 243 244 245 246 247 248 249\n",
            " 250 251 252 253 254 255]\n"
          ]
        }
      ]
    },
    {
      "cell_type": "code",
      "source": [
        "# Convert masks to one-hot encoding\n",
        "num_classes = len(unique_classes)\n",
        "masks_one_hot = np.zeros((masks.shape[0], masks.shape[1], masks.shape[2], num_classes))\n",
        "for i in range(num_classes):\n",
        "    masks_one_hot[:, :, :, i] = (masks == unique_classes[i]).astype(int)\n"
      ],
      "metadata": {
        "id": "Gf9p_XYtVN4V"
      },
      "execution_count": 7,
      "outputs": []
    },
    {
      "cell_type": "code",
      "source": [
        "# Split the dataset into training and validation sets\n",
        "images_train, images_val, masks_train, masks_val = train_test_split(images, masks_one_hot, test_size=0.2, random_state=42)"
      ],
      "metadata": {
        "id": "hbMqoahgVbR_"
      },
      "execution_count": 8,
      "outputs": []
    },
    {
      "cell_type": "code",
      "source": [
        "# Build the U-Net model\n",
        "model = unet(input_size=(48, 48, 3))"
      ],
      "metadata": {
        "id": "zH1JqLsfVhjz"
      },
      "execution_count": 9,
      "outputs": []
    },
    {
      "cell_type": "code",
      "source": [
        "# Compile the model\n",
        "model.compile(optimizer='adam', loss='categorical_crossentropy', metrics=['accuracy'])\n"
      ],
      "metadata": {
        "id": "qrw9XPzIVoi7"
      },
      "execution_count": 10,
      "outputs": []
    },
    {
      "cell_type": "code",
      "source": [
        "# Create a History object\n",
        "history = tf.keras.callbacks.History()"
      ],
      "metadata": {
        "id": "hxgyVivmVsfj"
      },
      "execution_count": 11,
      "outputs": []
    },
    {
      "cell_type": "code",
      "source": [
        "# Train the model with the holdout set for validation\n",
        "model.fit(images_train, masks_train, validation_data=(images_val, masks_val), epochs=50, batch_size=8, callbacks=[history])\n"
      ],
      "metadata": {
        "id": "WfLF_aIaVzS5",
        "colab": {
          "base_uri": "https://localhost:8080/"
        },
        "outputId": "dc5a97c3-2f9f-434b-8440-b2add7dee0c3"
      },
      "execution_count": 12,
      "outputs": [
        {
          "output_type": "stream",
          "name": "stdout",
          "text": [
            "Epoch 1/50\n",
            "20/20 [==============================] - 15s 74ms/step - loss: 90.9523 - accuracy: 0.7935 - val_loss: 56.5110 - val_accuracy: 0.8883\n",
            "Epoch 2/50\n",
            "20/20 [==============================] - 0s 22ms/step - loss: 37.1505 - accuracy: 0.8877 - val_loss: 19.3584 - val_accuracy: 0.8883\n",
            "Epoch 3/50\n",
            "20/20 [==============================] - 0s 23ms/step - loss: 11.8521 - accuracy: 0.8877 - val_loss: 6.1766 - val_accuracy: 0.8883\n",
            "Epoch 4/50\n",
            "20/20 [==============================] - 0s 23ms/step - loss: 4.2973 - accuracy: 0.8877 - val_loss: 3.0210 - val_accuracy: 0.8883\n",
            "Epoch 5/50\n",
            "20/20 [==============================] - 0s 23ms/step - loss: 2.5326 - accuracy: 0.8877 - val_loss: 2.1503 - val_accuracy: 0.8883\n",
            "Epoch 6/50\n",
            "20/20 [==============================] - 0s 22ms/step - loss: 2.0116 - accuracy: 0.8877 - val_loss: 1.8825 - val_accuracy: 0.8883\n",
            "Epoch 7/50\n",
            "20/20 [==============================] - 0s 22ms/step - loss: 1.8308 - accuracy: 0.8877 - val_loss: 1.7772 - val_accuracy: 0.8883\n",
            "Epoch 8/50\n",
            "20/20 [==============================] - 0s 22ms/step - loss: 1.7557 - accuracy: 0.8877 - val_loss: 1.7232 - val_accuracy: 0.8883\n",
            "Epoch 9/50\n",
            "20/20 [==============================] - 0s 22ms/step - loss: 1.7150 - accuracy: 0.8877 - val_loss: 1.6928 - val_accuracy: 0.8883\n",
            "Epoch 10/50\n",
            "20/20 [==============================] - 0s 23ms/step - loss: 1.6874 - accuracy: 0.8877 - val_loss: 1.6688 - val_accuracy: 0.8883\n",
            "Epoch 11/50\n",
            "20/20 [==============================] - 0s 22ms/step - loss: 1.6661 - accuracy: 0.8877 - val_loss: 1.6504 - val_accuracy: 0.8883\n",
            "Epoch 12/50\n",
            "20/20 [==============================] - 1s 31ms/step - loss: 1.6485 - accuracy: 0.8877 - val_loss: 1.6341 - val_accuracy: 0.8883\n",
            "Epoch 13/50\n",
            "20/20 [==============================] - 1s 30ms/step - loss: 1.6318 - accuracy: 0.8877 - val_loss: 1.6217 - val_accuracy: 0.8883\n",
            "Epoch 14/50\n",
            "20/20 [==============================] - 1s 30ms/step - loss: 1.6168 - accuracy: 0.8877 - val_loss: 1.6052 - val_accuracy: 0.8883\n",
            "Epoch 15/50\n",
            "20/20 [==============================] - 1s 32ms/step - loss: 1.6036 - accuracy: 0.8877 - val_loss: 1.5927 - val_accuracy: 0.8883\n",
            "Epoch 16/50\n",
            "20/20 [==============================] - 1s 32ms/step - loss: 1.5933 - accuracy: 0.8877 - val_loss: 1.5773 - val_accuracy: 0.8883\n",
            "Epoch 17/50\n",
            "20/20 [==============================] - 1s 25ms/step - loss: 1.5793 - accuracy: 0.8877 - val_loss: 1.5698 - val_accuracy: 0.8883\n",
            "Epoch 18/50\n",
            "20/20 [==============================] - 1s 27ms/step - loss: 1.5689 - accuracy: 0.8877 - val_loss: 1.5585 - val_accuracy: 0.8883\n",
            "Epoch 19/50\n",
            "20/20 [==============================] - 0s 22ms/step - loss: 1.5579 - accuracy: 0.8877 - val_loss: 1.5481 - val_accuracy: 0.8883\n",
            "Epoch 20/50\n",
            "20/20 [==============================] - 0s 22ms/step - loss: 1.5486 - accuracy: 0.8877 - val_loss: 1.5395 - val_accuracy: 0.8883\n",
            "Epoch 21/50\n",
            "20/20 [==============================] - 0s 22ms/step - loss: 1.5389 - accuracy: 0.8877 - val_loss: 1.5303 - val_accuracy: 0.8883\n",
            "Epoch 22/50\n",
            "20/20 [==============================] - 0s 22ms/step - loss: 1.5319 - accuracy: 0.8877 - val_loss: 1.5188 - val_accuracy: 0.8883\n",
            "Epoch 23/50\n",
            "20/20 [==============================] - 0s 22ms/step - loss: 1.5224 - accuracy: 0.8877 - val_loss: 1.5140 - val_accuracy: 0.8883\n",
            "Epoch 24/50\n",
            "20/20 [==============================] - 1s 27ms/step - loss: 1.5155 - accuracy: 0.8877 - val_loss: 1.5107 - val_accuracy: 0.8883\n",
            "Epoch 25/50\n",
            "20/20 [==============================] - 0s 24ms/step - loss: 1.5087 - accuracy: 0.8877 - val_loss: 1.5002 - val_accuracy: 0.8883\n",
            "Epoch 26/50\n",
            "20/20 [==============================] - 0s 22ms/step - loss: 1.5006 - accuracy: 0.8877 - val_loss: 1.4924 - val_accuracy: 0.8883\n",
            "Epoch 27/50\n",
            "20/20 [==============================] - 0s 22ms/step - loss: 1.4922 - accuracy: 0.8877 - val_loss: 1.4869 - val_accuracy: 0.8883\n",
            "Epoch 28/50\n",
            "20/20 [==============================] - 0s 23ms/step - loss: 1.4865 - accuracy: 0.8877 - val_loss: 1.4750 - val_accuracy: 0.8883\n",
            "Epoch 29/50\n",
            "20/20 [==============================] - 0s 23ms/step - loss: 1.4779 - accuracy: 0.8877 - val_loss: 1.4687 - val_accuracy: 0.8883\n",
            "Epoch 30/50\n",
            "20/20 [==============================] - 1s 26ms/step - loss: 1.4717 - accuracy: 0.8877 - val_loss: 1.4640 - val_accuracy: 0.8883\n",
            "Epoch 31/50\n",
            "20/20 [==============================] - 0s 22ms/step - loss: 1.4645 - accuracy: 0.8877 - val_loss: 1.4582 - val_accuracy: 0.8883\n",
            "Epoch 32/50\n",
            "20/20 [==============================] - 0s 23ms/step - loss: 1.4591 - accuracy: 0.8877 - val_loss: 1.4523 - val_accuracy: 0.8883\n",
            "Epoch 33/50\n",
            "20/20 [==============================] - 0s 22ms/step - loss: 1.4516 - accuracy: 0.8877 - val_loss: 1.4476 - val_accuracy: 0.8883\n",
            "Epoch 34/50\n",
            "20/20 [==============================] - 0s 23ms/step - loss: 1.4467 - accuracy: 0.8877 - val_loss: 1.4412 - val_accuracy: 0.8883\n",
            "Epoch 35/50\n",
            "20/20 [==============================] - 0s 22ms/step - loss: 1.4406 - accuracy: 0.8877 - val_loss: 1.4326 - val_accuracy: 0.8883\n",
            "Epoch 36/50\n",
            "20/20 [==============================] - 0s 23ms/step - loss: 1.4339 - accuracy: 0.8877 - val_loss: 1.4275 - val_accuracy: 0.8883\n",
            "Epoch 37/50\n",
            "20/20 [==============================] - 0s 22ms/step - loss: 1.4278 - accuracy: 0.8877 - val_loss: 1.4185 - val_accuracy: 0.8883\n",
            "Epoch 38/50\n",
            "20/20 [==============================] - 0s 23ms/step - loss: 1.4216 - accuracy: 0.8877 - val_loss: 1.4158 - val_accuracy: 0.8883\n",
            "Epoch 39/50\n",
            "20/20 [==============================] - 1s 30ms/step - loss: 1.4157 - accuracy: 0.8877 - val_loss: 1.4093 - val_accuracy: 0.8883\n",
            "Epoch 40/50\n",
            "20/20 [==============================] - 1s 27ms/step - loss: 1.4098 - accuracy: 0.8877 - val_loss: 1.4043 - val_accuracy: 0.8883\n",
            "Epoch 41/50\n",
            "20/20 [==============================] - 1s 28ms/step - loss: 1.4043 - accuracy: 0.8877 - val_loss: 1.3988 - val_accuracy: 0.8883\n",
            "Epoch 42/50\n",
            "20/20 [==============================] - 1s 30ms/step - loss: 1.3985 - accuracy: 0.8877 - val_loss: 1.3937 - val_accuracy: 0.8883\n",
            "Epoch 43/50\n",
            "20/20 [==============================] - 1s 26ms/step - loss: 1.3943 - accuracy: 0.8877 - val_loss: 1.3838 - val_accuracy: 0.8883\n",
            "Epoch 44/50\n",
            "20/20 [==============================] - 1s 30ms/step - loss: 1.3883 - accuracy: 0.8877 - val_loss: 1.3838 - val_accuracy: 0.8883\n",
            "Epoch 45/50\n",
            "20/20 [==============================] - 0s 22ms/step - loss: 1.3841 - accuracy: 0.8877 - val_loss: 1.3800 - val_accuracy: 0.8883\n",
            "Epoch 46/50\n",
            "20/20 [==============================] - 0s 22ms/step - loss: 1.3793 - accuracy: 0.8877 - val_loss: 1.3732 - val_accuracy: 0.8883\n",
            "Epoch 47/50\n",
            "20/20 [==============================] - 0s 22ms/step - loss: 1.3755 - accuracy: 0.8877 - val_loss: 1.3719 - val_accuracy: 0.8883\n",
            "Epoch 48/50\n",
            "20/20 [==============================] - 0s 21ms/step - loss: 1.3713 - accuracy: 0.8877 - val_loss: 1.3689 - val_accuracy: 0.8883\n",
            "Epoch 49/50\n",
            "20/20 [==============================] - 0s 22ms/step - loss: 1.3689 - accuracy: 0.8877 - val_loss: 1.3618 - val_accuracy: 0.8883\n",
            "Epoch 50/50\n",
            "20/20 [==============================] - 0s 21ms/step - loss: 1.3635 - accuracy: 0.8877 - val_loss: 1.3575 - val_accuracy: 0.8883\n"
          ]
        },
        {
          "output_type": "execute_result",
          "data": {
            "text/plain": [
              "<keras.callbacks.History at 0x7f95c00a3df0>"
            ]
          },
          "metadata": {},
          "execution_count": 12
        }
      ]
    },
    {
      "cell_type": "code",
      "source": [
        "import matplotlib.pyplot as plt\n",
        "\n",
        "# Plot the training accuracy\n",
        "plt.plot(history.history['accuracy'], label='Training Accuracy')\n",
        "plt.plot(history.history['val_accuracy'], label='Validation Accuracy')\n",
        "plt.title('Model Accuracy')\n",
        "plt.xlabel('Epoch')\n",
        "plt.legend()\n",
        "plt.show()"
      ],
      "metadata": {
        "id": "X908XIiuWgx1",
        "colab": {
          "base_uri": "https://localhost:8080/",
          "height": 472
        },
        "outputId": "8c6c0814-68bd-4ce8-e4d0-c7377488a535"
      },
      "execution_count": 13,
      "outputs": [
        {
          "output_type": "display_data",
          "data": {
            "text/plain": [
              "<Figure size 640x480 with 1 Axes>"
            ],
            "image/png": "[encoded data removed]"
          },
          "metadata": {}
        }
      ]
    },
    {
      "cell_type": "code",
      "source": [
        "# Plot the training loss\n",
        "plt.plot(history.history['loss'], label='Training Loss')\n",
        "plt.plot(history.history['val_loss'], label='Validation Loss')\n",
        "plt.title('Model Loss')\n",
        "plt.xlabel('Epoch')\n",
        "plt.legend()\n",
        "plt.show()"
      ],
      "metadata": {
        "id": "2M5yRlSQ04ts",
        "colab": {
          "base_uri": "https://localhost:8080/",
          "height": 472
        },
        "outputId": "a7eb666d-ab08-4b38-d754-a533fc0fe2de"
      },
      "execution_count": 14,
      "outputs": [
        {
          "output_type": "display_data",
          "data": {
            "text/plain": [
              "<Figure size 640x480 with 1 Axes>"
            ],
            "image/png": "[encoded data removed]"
          },
          "metadata": {}
        }
      ]
    },
    {
      "cell_type": "code",
      "source": [
        "\n",
        "# Perform predictions on the test set\n",
        "predictions = model.predict(images)\n"
      ],
      "metadata": {
        "id": "LWRQ79BaVfgI",
        "colab": {
          "base_uri": "https://localhost:8080/"
        },
        "outputId": "ec310dcb-9e64-4b0f-ab57-223c621cb255"
      },
      "execution_count": 15,
      "outputs": [
        {
          "output_type": "stream",
          "name": "stdout",
          "text": [
            "6/6 [==============================] - 1s 10ms/step\n"
          ]
        }
      ]
    },
    {
      "cell_type": "code",
      "source": [
        "# Convert predictions and true masks to class labels\n",
        "predicted_labels = np.argmax(predictions, axis=-1)\n",
        "true_labels = np.argmax(masks_one_hot, axis=-1)"
      ],
      "metadata": {
        "id": "KzczfwJ0Vo2I"
      },
      "execution_count": 16,
      "outputs": []
    },
    {
      "cell_type": "code",
      "source": [
        "# Flatten the labels for confusion matrix calculation\n",
        "predicted_labels_flat = predicted_labels.flatten()\n",
        "true_labels_flat = true_labels.flatten()\n"
      ],
      "metadata": {
        "id": "VY7n8gnbVuC5"
      },
      "execution_count": 17,
      "outputs": []
    },
    {
      "cell_type": "code",
      "source": [
        "from sklearn.metrics import confusion_matrix\n",
        "\n",
        "# Generate confusion matrix\n",
        "confusion_mat = confusion_matrix(true_labels_flat, predicted_labels_flat)\n"
      ],
      "metadata": {
        "id": "MduvPApOV3j1"
      },
      "execution_count": 18,
      "outputs": []
    },
    {
      "cell_type": "code",
      "source": [
        "# Print the confusion matrix\n",
        "print(\"Confusion Matrix:\")\n",
        "print(confusion_mat)"
      ],
      "metadata": {
        "id": "Ijxy55XAWPJ_",
        "colab": {
          "base_uri": "https://localhost:8080/"
        },
        "outputId": "f397f9e9-23be-4438-9b90-fe76567805ab"
      },
      "execution_count": 19,
      "outputs": [
        {
          "output_type": "stream",
          "name": "stdout",
          "text": [
            "Confusion Matrix:\n",
            "[[0 0 0 ... 0 0 0]\n",
            " [0 0 0 ... 0 0 0]\n",
            " [0 0 0 ... 0 0 0]\n",
            " ...\n",
            " [0 0 0 ... 0 0 0]\n",
            " [0 0 0 ... 0 0 0]\n",
            " [0 0 0 ... 0 0 0]]\n"
          ]
        }
      ]
    },
    {
      "cell_type": "code",
      "source": [
        "import numpy as np\n",
        "import matplotlib.pyplot as plt\n",
        "from sklearn.metrics import confusion_matrix\n",
        "import seaborn as sns"
      ],
      "metadata": {
        "id": "ES7bLFh5XLq_"
      },
      "execution_count": 20,
      "outputs": []
    },
    {
      "cell_type": "code",
      "source": [
        "model.save('/content/drive/MyDrive/files/unet.h5')"
      ],
      "metadata": {
        "id": "23goQBCg1KiB"
      },
      "execution_count": 21,
      "outputs": []
    },
    {
      "cell_type": "code",
      "source": [
        "import numpy as np\n",
        "import matplotlib.pyplot as plt\n",
        "from sklearn.metrics import confusion_matrix\n",
        "\n",
        "# Generate confusion matrix\n",
        "confusion_mat = confusion_matrix(true_labels_flat, predicted_labels_flat)\n",
        "\n"
      ],
      "metadata": {
        "id": "7CxeI90dYK-j"
      },
      "execution_count": 22,
      "outputs": []
    },
    {
      "cell_type": "code",
      "source": [
        "# Plot the confusion matrix as a heatmap\n",
        "plt.imshow(confusion_mat, cmap='Blues')\n",
        "\n",
        "# Add labels and title\n",
        "plt.title('Confusion Matrix')\n",
        "plt.xlabel('Predicted Labels')\n",
        "plt.ylabel('True Labels')\n",
        "\n",
        "# Add colorbar\n",
        "plt.colorbar()\n",
        "\n",
        "# Show the plot\n",
        "plt.show()"
      ],
      "metadata": {
        "id": "wMR7ZYrbYQr8",
        "colab": {
          "base_uri": "https://localhost:8080/",
          "height": 472
        },
        "outputId": "39344209-8816-4af1-98d2-b492dae6109d"
      },
      "execution_count": 23,
      "outputs": [
        {
          "output_type": "display_data",
          "data": {
            "text/plain": [
              "<Figure size 640x480 with 2 Axes>"
            ],
            "image/png": "[encoded data removed]"
          },
          "metadata": {}
        }
      ]
    },
    {
      "cell_type": "markdown",
      "source": [
        "precision \n",
        "recall\n",
        "f1 score\n",
        "display images and masks"
      ],
      "metadata": {
        "id": "AyZlKVZf4fML"
      }
    }
  ],
  "metadata": {
    "accelerator": "GPU",
    "colab": {
      "gpuType": "T4",
      "provenance": [],
      "include_colab_link": true
    },
    "kernelspec": {
      "display_name": "Python 3",
      "name": "python3"
    },
    "language_info": {
      "name": "python",
      "version": "3.10.11"
    },
    "vscode": {
      "interpreter": {
        "hash": "a9f1f59101e07bffb7c2ecfaca1a3c7ffe3cd326ee75e914ab1b038684b38c5a"
      }
    }
  },
  "nbformat": 4,
  "nbformat_minor": 0
}